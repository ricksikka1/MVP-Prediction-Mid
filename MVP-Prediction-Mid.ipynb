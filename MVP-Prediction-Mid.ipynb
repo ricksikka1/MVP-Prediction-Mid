{
 "cells": [
  {
   "cell_type": "code",
   "execution_count": 265,
   "metadata": {},
   "outputs": [],
   "source": [
    "# Import packages\n",
    "\n",
    "%matplotlib inline\n",
    "\n",
    "import pandas as pd\n",
    "import numpy as np\n",
    "import matplotlib.pyplot as plt\n",
    "from sklearn.model_selection import train_test_split\n",
    "from sklearn.svm import SVR\n",
    "from sklearn import neighbors\n",
    "from sklearn.neural_network import MLPRegressor\n",
    "from sklearn.metrics import mean_squared_error, r2_score\n",
    "from sklearn.model_selection import KFold\n",
    "from scipy.stats import norm\n",
    "from operator import itemgetter\n",
    "from sklearn.model_selection import cross_val_score"
   ]
  },
  {
   "cell_type": "code",
   "execution_count": 266,
   "metadata": {},
   "outputs": [],
   "source": [
    "dfHistorical = pd.read_csv(r'C:\\Users\\ricks\\Documents\\historical-data.csv')\n",
    "dfCurrent = pd.read_csv(r'C:\\Users\\ricks\\Documents\\current-data.csv')"
   ]
  },
  {
   "cell_type": "code",
   "execution_count": 267,
   "metadata": {},
   "outputs": [
    {
     "data": {
      "text/html": [
       "<div>\n",
       "<style scoped>\n",
       "    .dataframe tbody tr th:only-of-type {\n",
       "        vertical-align: middle;\n",
       "    }\n",
       "\n",
       "    .dataframe tbody tr th {\n",
       "        vertical-align: top;\n",
       "    }\n",
       "\n",
       "    .dataframe thead th {\n",
       "        text-align: right;\n",
       "    }\n",
       "</style>\n",
       "<table border=\"1\" class=\"dataframe\">\n",
       "  <thead>\n",
       "    <tr style=\"text-align: right;\">\n",
       "      <th></th>\n",
       "      <th>Rank</th>\n",
       "      <th>Player</th>\n",
       "      <th>Age</th>\n",
       "      <th>Tm</th>\n",
       "      <th>Pts Won</th>\n",
       "      <th>Pts Max</th>\n",
       "      <th>Share</th>\n",
       "      <th>G</th>\n",
       "      <th>Team Wins</th>\n",
       "      <th>Overall Seed</th>\n",
       "      <th>...</th>\n",
       "      <th>3P%</th>\n",
       "      <th>FT%</th>\n",
       "      <th>WS</th>\n",
       "      <th>WS/48</th>\n",
       "      <th>VORP</th>\n",
       "      <th>BPM</th>\n",
       "      <th>G-Lockout</th>\n",
       "      <th>Wins-Lockout</th>\n",
       "      <th>WS-Lockout</th>\n",
       "      <th>VORP-Lockout</th>\n",
       "    </tr>\n",
       "  </thead>\n",
       "  <tbody>\n",
       "    <tr>\n",
       "      <th>0</th>\n",
       "      <td>1</td>\n",
       "      <td>Kareem Abdul-Jabbar</td>\n",
       "      <td>32</td>\n",
       "      <td>LAL</td>\n",
       "      <td>147.0</td>\n",
       "      <td>221</td>\n",
       "      <td>0.665</td>\n",
       "      <td>82.0</td>\n",
       "      <td>60.0</td>\n",
       "      <td>2</td>\n",
       "      <td>...</td>\n",
       "      <td>0.000</td>\n",
       "      <td>0.765</td>\n",
       "      <td>14.8</td>\n",
       "      <td>0.227</td>\n",
       "      <td>6.8</td>\n",
       "      <td>6.7</td>\n",
       "      <td>NaN</td>\n",
       "      <td>NaN</td>\n",
       "      <td>NaN</td>\n",
       "      <td>NaN</td>\n",
       "    </tr>\n",
       "    <tr>\n",
       "      <th>1</th>\n",
       "      <td>2</td>\n",
       "      <td>Julius Erving</td>\n",
       "      <td>29</td>\n",
       "      <td>PHI</td>\n",
       "      <td>31.5</td>\n",
       "      <td>221</td>\n",
       "      <td>0.143</td>\n",
       "      <td>78.0</td>\n",
       "      <td>59.0</td>\n",
       "      <td>3</td>\n",
       "      <td>...</td>\n",
       "      <td>0.200</td>\n",
       "      <td>0.787</td>\n",
       "      <td>12.5</td>\n",
       "      <td>0.213</td>\n",
       "      <td>6.5</td>\n",
       "      <td>7.2</td>\n",
       "      <td>NaN</td>\n",
       "      <td>NaN</td>\n",
       "      <td>NaN</td>\n",
       "      <td>NaN</td>\n",
       "    </tr>\n",
       "    <tr>\n",
       "      <th>2</th>\n",
       "      <td>3</td>\n",
       "      <td>George Gervin</td>\n",
       "      <td>27</td>\n",
       "      <td>SAS</td>\n",
       "      <td>19.0</td>\n",
       "      <td>221</td>\n",
       "      <td>0.086</td>\n",
       "      <td>78.0</td>\n",
       "      <td>41.0</td>\n",
       "      <td>10</td>\n",
       "      <td>...</td>\n",
       "      <td>0.314</td>\n",
       "      <td>0.852</td>\n",
       "      <td>10.6</td>\n",
       "      <td>0.173</td>\n",
       "      <td>3.1</td>\n",
       "      <td>2.2</td>\n",
       "      <td>NaN</td>\n",
       "      <td>NaN</td>\n",
       "      <td>NaN</td>\n",
       "      <td>NaN</td>\n",
       "    </tr>\n",
       "    <tr>\n",
       "      <th>3</th>\n",
       "      <td>4</td>\n",
       "      <td>Larry Bird</td>\n",
       "      <td>23</td>\n",
       "      <td>BOS</td>\n",
       "      <td>15.0</td>\n",
       "      <td>221</td>\n",
       "      <td>0.068</td>\n",
       "      <td>82.0</td>\n",
       "      <td>61.0</td>\n",
       "      <td>1</td>\n",
       "      <td>...</td>\n",
       "      <td>0.406</td>\n",
       "      <td>0.836</td>\n",
       "      <td>11.2</td>\n",
       "      <td>0.182</td>\n",
       "      <td>5.4</td>\n",
       "      <td>5.3</td>\n",
       "      <td>NaN</td>\n",
       "      <td>NaN</td>\n",
       "      <td>NaN</td>\n",
       "      <td>NaN</td>\n",
       "    </tr>\n",
       "    <tr>\n",
       "      <th>4</th>\n",
       "      <td>5</td>\n",
       "      <td>Tiny Archibald</td>\n",
       "      <td>31</td>\n",
       "      <td>BOS</td>\n",
       "      <td>2.0</td>\n",
       "      <td>221</td>\n",
       "      <td>0.009</td>\n",
       "      <td>80.0</td>\n",
       "      <td>61.0</td>\n",
       "      <td>1</td>\n",
       "      <td>...</td>\n",
       "      <td>0.222</td>\n",
       "      <td>0.830</td>\n",
       "      <td>8.9</td>\n",
       "      <td>0.148</td>\n",
       "      <td>1.5</td>\n",
       "      <td>0.0</td>\n",
       "      <td>NaN</td>\n",
       "      <td>NaN</td>\n",
       "      <td>NaN</td>\n",
       "      <td>NaN</td>\n",
       "    </tr>\n",
       "  </tbody>\n",
       "</table>\n",
       "<p>5 rows × 27 columns</p>\n",
       "</div>"
      ],
      "text/plain": [
       "   Rank               Player  Age   Tm  Pts Won  Pts Max  Share     G  \\\n",
       "0     1  Kareem Abdul-Jabbar   32  LAL    147.0      221  0.665  82.0   \n",
       "1     2        Julius Erving   29  PHI     31.5      221  0.143  78.0   \n",
       "2     3        George Gervin   27  SAS     19.0      221  0.086  78.0   \n",
       "3     4           Larry Bird   23  BOS     15.0      221  0.068  82.0   \n",
       "4     5       Tiny Archibald   31  BOS      2.0      221  0.009  80.0   \n",
       "\n",
       "   Team Wins  Overall Seed  ...    3P%    FT%    WS  WS/48  VORP  BPM  \\\n",
       "0       60.0             2  ...  0.000  0.765  14.8  0.227   6.8  6.7   \n",
       "1       59.0             3  ...  0.200  0.787  12.5  0.213   6.5  7.2   \n",
       "2       41.0            10  ...  0.314  0.852  10.6  0.173   3.1  2.2   \n",
       "3       61.0             1  ...  0.406  0.836  11.2  0.182   5.4  5.3   \n",
       "4       61.0             1  ...  0.222  0.830   8.9  0.148   1.5  0.0   \n",
       "\n",
       "   G-Lockout  Wins-Lockout  WS-Lockout  VORP-Lockout  \n",
       "0        NaN           NaN         NaN           NaN  \n",
       "1        NaN           NaN         NaN           NaN  \n",
       "2        NaN           NaN         NaN           NaN  \n",
       "3        NaN           NaN         NaN           NaN  \n",
       "4        NaN           NaN         NaN           NaN  \n",
       "\n",
       "[5 rows x 27 columns]"
      ]
     },
     "execution_count": 267,
     "metadata": {},
     "output_type": "execute_result"
    }
   ],
   "source": [
    "dfHistorical.head()"
   ]
  },
  {
   "cell_type": "code",
   "execution_count": 268,
   "metadata": {},
   "outputs": [],
   "source": [
    "train, test = train_test_split(dfHistorical, test_size = 0.25, random_state = 10)\n",
    "\n",
    "x_train = train[['Team Wins', 'Overall Seed', 'PTS', 'TRB', 'AST', 'FG%', 'VORP', 'WS']]\n",
    "y_train = train[['Share']]\n",
    "\n",
    "x_test = test[['Team Wins', 'Overall Seed', 'PTS', 'TRB', 'AST', 'FG%', 'VORP', 'WS']]\n",
    "y_test = test[['Share']]"
   ]
  },
  {
   "cell_type": "markdown",
   "metadata": {},
   "source": [
    "## MODELS (Support Vector, K-Nearest Neighbors, Neural Network)"
   ]
  },
  {
   "cell_type": "code",
   "execution_count": 269,
   "metadata": {},
   "outputs": [
    {
     "name": "stdout",
     "output_type": "stream",
     "text": [
      "Mean squared error: 0.027\n",
      "R2 score: 0.710\n"
     ]
    }
   ],
   "source": [
    "svr = SVR(kernel = 'rbf', gamma = 1e-3, C = 100, epsilon = .1)\n",
    "y_svr = []\n",
    "\n",
    "scores(y_svr, svr)"
   ]
  },
  {
   "cell_type": "code",
   "execution_count": 270,
   "metadata": {},
   "outputs": [
    {
     "name": "stdout",
     "output_type": "stream",
     "text": [
      "Mean squared error: 0.035\n",
      "R2 score: 0.633\n"
     ]
    }
   ],
   "source": [
    "knn = neighbors.KNeighborsRegressor(n_neighbors = 7, weights = 'uniform')\n",
    "\n",
    "y_knn = []\n",
    "scores(y_knn, knn)"
   ]
  },
  {
   "cell_type": "code",
   "execution_count": 271,
   "metadata": {},
   "outputs": [
    {
     "name": "stdout",
     "output_type": "stream",
     "text": [
      "Mean squared error: 0.036\n",
      "R2 score: 0.619\n"
     ]
    }
   ],
   "source": [
    "dnn = MLPRegressor(\n",
    "    solver='lbfgs',\n",
    "    hidden_layer_sizes=100,\n",
    "    max_iter=10000,\n",
    "    random_state=987654321,\n",
    "    activation='identity',\n",
    "    learning_rate ='invscaling')\n",
    "\n",
    "y_dnn = []\n",
    "scores(y_dnn, dnn)"
   ]
  },
  {
   "cell_type": "markdown",
   "metadata": {},
   "source": [
    "### Score Function\n",
    "\n",
    "The higher r^2 value and lower mean squared error value equates to more accurate models"
   ]
  },
  {
   "cell_type": "code",
   "execution_count": 272,
   "metadata": {},
   "outputs": [],
   "source": [
    "# Accuracy check and fit models\n",
    "def scores(y, model):\n",
    "    \n",
    "    model.fit(x_train, y_train.values.ravel())\n",
    "    y_pred = model.predict(x_test)\n",
    "    \n",
    "    print(\"Mean squared error: %.3f\" % mean_squared_error(y_test, y_pred))\n",
    "    print('R2 score: %.3f' % r2_score(y_test, y_pred))\n",
    "\n",
    "    \n",
    "    for i in y_pred:\n",
    "        y.append(i)"
   ]
  },
  {
   "cell_type": "markdown",
   "metadata": {},
   "source": [
    "### Standard Residuals Test\n",
    "\n",
    "A standardized residuals test analyzes the difference between the model's predicted and actual values on historical data. To pass the test, the models have at least 95% of their standardized residuals within 2 standard deviations of the mean and have no noticeable trend. Passing the standardized residuals test gives us a first indication that the models' errors are random."
   ]
  },
  {
   "cell_type": "code",
   "execution_count": 273,
   "metadata": {},
   "outputs": [],
   "source": [
    "#Create function that prepares the standardized residuals\n",
    "\n",
    "def residuals(x, y):\n",
    "    \n",
    "    resid = [i for i in (y_test['Share'] - x)]\n",
    "    ssr = [i ** 2 for i in resid]\n",
    "    \n",
    "    ssrSum = 0\n",
    "    for i in ssr:\n",
    "        ssrSum += i\n",
    "        \n",
    "    standResid = []\n",
    "    for i in resid:\n",
    "        standResid.append(i / ((ssrSum / (y_test.shape[0] - 2)) ** (1/2)))\n",
    "    \n",
    "    for i in standResid:\n",
    "        y.append(i)"
   ]
  },
  {
   "cell_type": "code",
   "execution_count": 274,
   "metadata": {},
   "outputs": [],
   "source": [
    "svrResid = []\n",
    "knnResid = []\n",
    "dnnResid = []\n",
    "\n",
    "residuals(y_svr, svrResid)\n",
    "residuals(y_knn, knnResid)\n",
    "residuals(y_dnn, dnnResid)"
   ]
  },
  {
   "cell_type": "code",
   "execution_count": 275,
   "metadata": {},
   "outputs": [],
   "source": [
    "def outliers(x):\n",
    "    \n",
    "    npList = np.array(x)\n",
    "    stdev = np.std(npList)\n",
    "    mean = np.mean(npList)\n",
    "\n",
    "    outliers = 0\n",
    "    for i in x:\n",
    "        if i < mean - 2 * stdev:\n",
    "            outliers += 1\n",
    "        elif i > mean + 2 * stdev:\n",
    "            outliers += 1\n",
    "\n",
    "    outlierPercent = 1 - outliers / y_test.shape[0]\n",
    "    outlierString = \"{:.3%}\".format(outlierPercent)\n",
    "    \n",
    "    return outlierString"
   ]
  },
  {
   "cell_type": "code",
   "execution_count": 276,
   "metadata": {},
   "outputs": [
    {
     "data": {
      "image/png": "[encoded data removed]",
      "text/plain": [
       "<Figure size 432x288 with 4 Axes>"
      ]
     },
     "metadata": {},
     "output_type": "display_data"
    }
   ],
   "source": [
    "plt.style.use('fivethirtyeight')\n",
    "\n",
    "residFig, ((ax1, ax2), (ax3, ax4)) = plt.subplots(2, 2, sharey = 'row')\n",
    "\n",
    "x = np.arange(y_test.shape[0])\n",
    "ax1.xaxis.set_visible(False)\n",
    "ax2.xaxis.set_visible(False)\n",
    "ax3.xaxis.set_visible(False)\n",
    "ax4.xaxis.set_visible(False)\n",
    "\n",
    "ax1.scatter(x, svrResid)\n",
    "ax1.axhline(y = np.mean(svrResid), label = \"Average\")\n",
    "ax1.axhline(y = np.mean(svrResid) - 2 * np.std(svrResid), color = 'orange')\n",
    "ax1.axhline(y = np.mean(svrResid) + 2 * np.std(svrResid), label = \"2 stdev from mean\", color = 'orange')\n",
    "ax1.set_title(\"SVM: %s\" % outliers(svrResid), size = 18, x = .485, ha = 'center')\n",
    "\n",
    "\n",
    "ax3.scatter(x, knnResid)\n",
    "ax3.axhline(y = np.mean(knnResid))\n",
    "ax3.axhline(y = np.mean(knnResid) - 2 * np.std(knnResid), color = 'orange')\n",
    "ax3.axhline(y = np.mean(knnResid) + 2 * np.std(knnResid), color = 'orange')\n",
    "ax3.set_title(\"k-NN: %s\" % outliers(knnResid), size = 18, x = .485, ha = 'center')\n",
    "\n",
    "ax4.scatter(x, dnnResid)\n",
    "ax4.axhline(y = np.mean(dnnResid))\n",
    "ax4.axhline(y = np.mean(dnnResid) - 2 * np.std(dnnResid), color = 'orange')\n",
    "ax4.axhline(y = np.mean(dnnResid) + 2 * np.std(dnnResid), color = 'orange')\n",
    "ax4.set_title(\"DNN: %s\" % outliers(dnnResid), size = 18, x = .485, ha = 'center')\n",
    "\n",
    "residFig.legend(loc = (.25, .88), ncol=2, prop={'size': 12, \"family\": \"Rockwell\"})\n",
    "\n",
    "residFig.suptitle(\"Standardized Residuals\", weight = 'bold', size = 18, y = 1.15)\n",
    "\n",
    "ax1.yaxis.set_ticks([-2.5, 0, 2.5])\n",
    "ax3.yaxis.set_ticks([-2.5, 0, 2.5])\n",
    "\n",
    "residFig.text(x = 0, y = 0,\n",
    "    s = '________________________________________________________________',\n",
    "    fontsize = 14, color = 'grey', horizontalalignment='left')\n",
    "\n",
    "residFig.text(x = 0, y = -.06,\n",
    "    s = 'Rick Sikka                     ',\n",
    "    fontsize = 14, fontname = 'Rockwell', color = 'grey', horizontalalignment='left')\n",
    "\n",
    "residFig.savefig('resid-fig.png', dpi = 400, bbox_inches = 'tight')"
   ]
  },
  {
   "cell_type": "markdown",
   "metadata": {},
   "source": [
    "### Durbin - Watson Test"
   ]
  },
  {
   "cell_type": "code",
   "execution_count": 277,
   "metadata": {},
   "outputs": [
    {
     "name": "stdout",
     "output_type": "stream",
     "text": [
      "1.836130305961713\n",
      "1.8486335445324737\n",
      "1.6866440343490032\n"
     ]
    }
   ],
   "source": [
    "from statsmodels.stats import stattools as stools\n",
    "\n",
    "print(stools.durbin_watson(svrResid))\n",
    "print(stools.durbin_watson(knnResid))\n",
    "print(stools.durbin_watson(dnnResid))"
   ]
  },
  {
   "cell_type": "markdown",
   "metadata": {},
   "source": [
    "### PREDICTIONS"
   ]
  },
  {
   "cell_type": "code",
   "execution_count": 278,
   "metadata": {},
   "outputs": [
    {
     "data": {
      "text/html": [
       "<div>\n",
       "<style scoped>\n",
       "    .dataframe tbody tr th:only-of-type {\n",
       "        vertical-align: middle;\n",
       "    }\n",
       "\n",
       "    .dataframe tbody tr th {\n",
       "        vertical-align: top;\n",
       "    }\n",
       "\n",
       "    .dataframe thead th {\n",
       "        text-align: right;\n",
       "    }\n",
       "</style>\n",
       "<table border=\"1\" class=\"dataframe\">\n",
       "  <thead>\n",
       "    <tr style=\"text-align: right;\">\n",
       "      <th></th>\n",
       "      <th>Rank</th>\n",
       "      <th>Player</th>\n",
       "      <th>Age</th>\n",
       "      <th>Tm</th>\n",
       "      <th>G</th>\n",
       "      <th>Team Wins</th>\n",
       "      <th>Overall Seed</th>\n",
       "      <th>MP</th>\n",
       "      <th>PTS</th>\n",
       "      <th>TRB</th>\n",
       "      <th>...</th>\n",
       "      <th>FT%</th>\n",
       "      <th>WS</th>\n",
       "      <th>WS/48</th>\n",
       "      <th>VORP</th>\n",
       "      <th>BPM</th>\n",
       "      <th>G-Unadjusted</th>\n",
       "      <th>Wins-Unadjusted</th>\n",
       "      <th>WS-Unadjusted</th>\n",
       "      <th>VORP-Unadjusted</th>\n",
       "      <th>Total Games</th>\n",
       "    </tr>\n",
       "  </thead>\n",
       "  <tbody>\n",
       "    <tr>\n",
       "      <th>0</th>\n",
       "      <td>1</td>\n",
       "      <td>Giannis (1)</td>\n",
       "      <td>24</td>\n",
       "      <td>MIL</td>\n",
       "      <td>76.142857</td>\n",
       "      <td>58.571429</td>\n",
       "      <td>2</td>\n",
       "      <td>33.5</td>\n",
       "      <td>26.7</td>\n",
       "      <td>12.6</td>\n",
       "      <td>...</td>\n",
       "      <td>0.701</td>\n",
       "      <td>13.861905</td>\n",
       "      <td>0.261</td>\n",
       "      <td>7.419048</td>\n",
       "      <td>9.6</td>\n",
       "      <td>39</td>\n",
       "      <td>30</td>\n",
       "      <td>7.1</td>\n",
       "      <td>3.8</td>\n",
       "      <td>42</td>\n",
       "    </tr>\n",
       "    <tr>\n",
       "      <th>1</th>\n",
       "      <td>2</td>\n",
       "      <td>Harden (2)</td>\n",
       "      <td>29</td>\n",
       "      <td>HOU</td>\n",
       "      <td>76.142857</td>\n",
       "      <td>46.857143</td>\n",
       "      <td>11</td>\n",
       "      <td>37.2</td>\n",
       "      <td>34.2</td>\n",
       "      <td>6.2</td>\n",
       "      <td>...</td>\n",
       "      <td>0.859</td>\n",
       "      <td>13.471429</td>\n",
       "      <td>0.229</td>\n",
       "      <td>9.371429</td>\n",
       "      <td>11.2</td>\n",
       "      <td>39</td>\n",
       "      <td>24</td>\n",
       "      <td>6.9</td>\n",
       "      <td>4.8</td>\n",
       "      <td>42</td>\n",
       "    </tr>\n",
       "    <tr>\n",
       "      <th>2</th>\n",
       "      <td>3</td>\n",
       "      <td>Curry (3)</td>\n",
       "      <td>30</td>\n",
       "      <td>GSW</td>\n",
       "      <td>61.023256</td>\n",
       "      <td>55.302326</td>\n",
       "      <td>4</td>\n",
       "      <td>34.6</td>\n",
       "      <td>29.4</td>\n",
       "      <td>5.2</td>\n",
       "      <td>...</td>\n",
       "      <td>0.917</td>\n",
       "      <td>9.725581</td>\n",
       "      <td>0.221</td>\n",
       "      <td>4.767442</td>\n",
       "      <td>7.1</td>\n",
       "      <td>32</td>\n",
       "      <td>29</td>\n",
       "      <td>5.1</td>\n",
       "      <td>2.5</td>\n",
       "      <td>43</td>\n",
       "    </tr>\n",
       "    <tr>\n",
       "      <th>3</th>\n",
       "      <td>4</td>\n",
       "      <td>Kawhi (4)</td>\n",
       "      <td>27</td>\n",
       "      <td>TOR</td>\n",
       "      <td>63.777778</td>\n",
       "      <td>60.133333</td>\n",
       "      <td>1</td>\n",
       "      <td>34.9</td>\n",
       "      <td>27.5</td>\n",
       "      <td>8.0</td>\n",
       "      <td>...</td>\n",
       "      <td>0.846</td>\n",
       "      <td>10.933333</td>\n",
       "      <td>0.238</td>\n",
       "      <td>4.191111</td>\n",
       "      <td>5.6</td>\n",
       "      <td>35</td>\n",
       "      <td>33</td>\n",
       "      <td>6.0</td>\n",
       "      <td>2.3</td>\n",
       "      <td>45</td>\n",
       "    </tr>\n",
       "    <tr>\n",
       "      <th>4</th>\n",
       "      <td>5</td>\n",
       "      <td>Jokic (5)</td>\n",
       "      <td>23</td>\n",
       "      <td>DEN</td>\n",
       "      <td>82.000000</td>\n",
       "      <td>56.619048</td>\n",
       "      <td>3</td>\n",
       "      <td>31.4</td>\n",
       "      <td>19.7</td>\n",
       "      <td>10.2</td>\n",
       "      <td>...</td>\n",
       "      <td>0.837</td>\n",
       "      <td>12.300000</td>\n",
       "      <td>0.228</td>\n",
       "      <td>7.614286</td>\n",
       "      <td>9.7</td>\n",
       "      <td>42</td>\n",
       "      <td>29</td>\n",
       "      <td>6.3</td>\n",
       "      <td>3.9</td>\n",
       "      <td>42</td>\n",
       "    </tr>\n",
       "  </tbody>\n",
       "</table>\n",
       "<p>5 rows × 25 columns</p>\n",
       "</div>"
      ],
      "text/plain": [
       "   Rank       Player  Age   Tm          G  Team Wins  Overall Seed    MP  \\\n",
       "0     1  Giannis (1)   24  MIL  76.142857  58.571429             2  33.5   \n",
       "1     2   Harden (2)   29  HOU  76.142857  46.857143            11  37.2   \n",
       "2     3    Curry (3)   30  GSW  61.023256  55.302326             4  34.6   \n",
       "3     4    Kawhi (4)   27  TOR  63.777778  60.133333             1  34.9   \n",
       "4     5    Jokic (5)   23  DEN  82.000000  56.619048             3  31.4   \n",
       "\n",
       "    PTS   TRB  ...    FT%         WS  WS/48      VORP   BPM  G-Unadjusted  \\\n",
       "0  26.7  12.6  ...  0.701  13.861905  0.261  7.419048   9.6            39   \n",
       "1  34.2   6.2  ...  0.859  13.471429  0.229  9.371429  11.2            39   \n",
       "2  29.4   5.2  ...  0.917   9.725581  0.221  4.767442   7.1            32   \n",
       "3  27.5   8.0  ...  0.846  10.933333  0.238  4.191111   5.6            35   \n",
       "4  19.7  10.2  ...  0.837  12.300000  0.228  7.614286   9.7            42   \n",
       "\n",
       "   Wins-Unadjusted  WS-Unadjusted  VORP-Unadjusted  Total Games  \n",
       "0               30            7.1              3.8           42  \n",
       "1               24            6.9              4.8           42  \n",
       "2               29            5.1              2.5           43  \n",
       "3               33            6.0              2.3           45  \n",
       "4               29            6.3              3.9           42  \n",
       "\n",
       "[5 rows x 25 columns]"
      ]
     },
     "execution_count": 278,
     "metadata": {},
     "output_type": "execute_result"
    }
   ],
   "source": [
    "dfCurrentNames = dfCurrent.iloc[:, 1]\n",
    "dfCurrentPredict = dfCurrent[['Team Wins', 'Overall Seed', 'PTS', 'TRB', 'AST', 'FG%', 'VORP', 'WS']]\n",
    "x = 5\n",
    "dfCurrent.head()"
   ]
  },
  {
   "cell_type": "markdown",
   "metadata": {},
   "source": [
    "### Support Vector Regression"
   ]
  },
  {
   "cell_type": "code",
   "execution_count": 279,
   "metadata": {},
   "outputs": [
    {
     "name": "stdout",
     "output_type": "stream",
     "text": [
      "Giannis (1) 0.7022878946723233\n",
      "Harden (2) 0.5467403682540558\n",
      "Curry (3) 0.25611516514390986\n",
      "Kawhi (4) 0.3140821895049152\n",
      "Jokic (5) 0.38935054052582474\n",
      "PG13 (6) 0.15965216175709374\n",
      "Embiid (7) 0.20987036116811397\n",
      "LeBron (8) 0.05577111821209202\n",
      "KD (9) 0.2578586167364699\n",
      "Davis (10) 0.2525827933784862\n"
     ]
    }
   ],
   "source": [
    "svrPredict = svr.predict(dfCurrentPredict)\n",
    "svrPredict = svrPredict.tolist()\n",
    "\n",
    "for (i, j) in zip(dfCurrentNames, svrPredict):\n",
    "    print(i, j)"
   ]
  },
  {
   "cell_type": "code",
   "execution_count": 280,
   "metadata": {},
   "outputs": [
    {
     "name": "stdout",
     "output_type": "stream",
     "text": [
      "[['Giannis (1)', 0.7022878946723233], ['Harden (2)', 0.5467403682540558], ['Jokic (5)', 0.38935054052582474], ['Kawhi (4)', 0.3140821895049152], ['KD (9)', 0.2578586167364699], ['Curry (3)', 0.25611516514390986], ['Davis (10)', 0.2525827933784862], ['Embiid (7)', 0.20987036116811397], ['PG13 (6)', 0.15965216175709374], ['LeBron (8)', 0.05577111821209202]]\n"
     ]
    }
   ],
   "source": [
    "svrListUnsorted = [[i, j] for i, j in zip(dfCurrentNames, svrPredict)]\n",
    "svrDataUnsorted = [row[1] for row in svrListUnsorted]\n",
    "svrList = sorted(svrListUnsorted, key = itemgetter(1), reverse = True)\n",
    "\n",
    "svrData = [row[1] for row in svrList]\n",
    "svrNames = [row[0] for row in svrList]\n",
    "print(svrList)\n",
    "\n",
    "x_svr = np.arange(len(svrData))"
   ]
  },
  {
   "cell_type": "code",
   "execution_count": 281,
   "metadata": {},
   "outputs": [
    {
     "data": {
      "image/png": "[encoded data removed]",
      "text/plain": [
       "<Figure size 432x288 with 1 Axes>"
      ]
     },
     "metadata": {},
     "output_type": "display_data"
    }
   ],
   "source": [
    "plt.style.use('fivethirtyeight')\n",
    "\n",
    "svr, ax = plt.subplots()\n",
    "\n",
    "ax.bar(x_svr, svrData, width = .7, edgecolor = 'white', color = 'lightgreen', linewidth = 4, label = 'Predicted')\n",
    "\n",
    "labels = svrNames\n",
    "\n",
    "rects = ax.patches\n",
    "for rect, label in zip(rects, labels):\n",
    "    if rect.get_x() > 7:\n",
    "        ax.text(rect.get_x() + rect.get_width() / 1.75, rect.get_height() + .02, label,\n",
    "        ha='center', va='bottom', rotation = 'vertical', color = 'black')\n",
    "    elif rect.get_x() <=7:\n",
    "        height = .03\n",
    "        ax.text(rect.get_x() + rect.get_width() / 1.75, height, label,\n",
    "        ha='center', va='bottom', rotation = 'vertical', color = 'black')\n",
    "    \n",
    "svr.suptitle(\"SVM predicted MVP share\", weight = 'bold', size = 18, y = 1.005)\n",
    "ax.set_title(\"NBA.com MVP ladder rank listed in parentheses\", size = 14, fontname = 'Rockwell')\n",
    "ax.xaxis.set_visible(False)\n",
    "ax.set_ylabel(\"Vote Share\")\n",
    "\n",
    "svr.text(x = -0.02, y = 0.03,\n",
    "    s = '_______________________________________________________________',\n",
    "    fontsize = 14, color = 'grey', horizontalalignment='left')\n",
    "\n",
    "svr.text(x = -0.02, y = -.03,\n",
    "    s = 'Rick Sikka',\n",
    "    fontsize = 14, fontname = 'DejaVu Sans', color = 'grey', horizontalalignment='left')\n",
    "\n",
    "svr.savefig('svr.png', dpi = 400, bbox_inches = 'tight')"
   ]
  },
  {
   "cell_type": "markdown",
   "metadata": {},
   "source": [
    "### k-Nearest Neighbors"
   ]
  },
  {
   "cell_type": "code",
   "execution_count": 282,
   "metadata": {},
   "outputs": [
    {
     "name": "stdout",
     "output_type": "stream",
     "text": [
      "Giannis (1) 0.5315714285714286\n",
      "Harden (2) 0.3862857142857143\n",
      "Curry (3) 0.25614285714285717\n",
      "Kawhi (4) 0.25042857142857144\n",
      "Jokic (5) 0.3188571428571429\n",
      "PG13 (6) 0.13314285714285715\n",
      "Embiid (7) 0.17657142857142857\n",
      "LeBron (8) 0.1362857142857143\n",
      "KD (9) 0.18671428571428575\n",
      "Davis (10) 0.11742857142857142\n"
     ]
    }
   ],
   "source": [
    "knnPredict = knn.predict(dfCurrentPredict)\n",
    "knnPredict = knnPredict.tolist()\n",
    "\n",
    "for (i, j) in zip(dfCurrentNames, knnPredict):\n",
    "    print(i, j)"
   ]
  },
  {
   "cell_type": "code",
   "execution_count": 283,
   "metadata": {},
   "outputs": [
    {
     "name": "stdout",
     "output_type": "stream",
     "text": [
      "[['Giannis (1)', 0.5315714285714286], ['Harden (2)', 0.3862857142857143], ['Jokic (5)', 0.3188571428571429], ['Curry (3)', 0.25614285714285717], ['Kawhi (4)', 0.25042857142857144], ['KD (9)', 0.18671428571428575], ['Embiid (7)', 0.17657142857142857], ['LeBron (8)', 0.1362857142857143], ['PG13 (6)', 0.13314285714285715], ['Davis (10)', 0.11742857142857142]]\n"
     ]
    }
   ],
   "source": [
    "knnListUnsorted = [[i, j] for i, j in zip(dfCurrentNames, knnPredict)]\n",
    "knnDataUnsorted = [row[1] for row in knnListUnsorted]\n",
    "knnList = sorted(knnListUnsorted, key = itemgetter(1), reverse = True)\n",
    "\n",
    "knnData = [row[1] for row in knnList]\n",
    "knnNames = [row[0] for row in knnList]\n",
    "print(knnList)\n",
    "\n",
    "x_knn = np.arange(len(knnData))"
   ]
  },
  {
   "cell_type": "code",
   "execution_count": 284,
   "metadata": {},
   "outputs": [
    {
     "data": {
      "image/png": "[encoded data removed]",
      "text/plain": [
       "<Figure size 432x288 with 1 Axes>"
      ]
     },
     "metadata": {},
     "output_type": "display_data"
    }
   ],
   "source": [
    "plt.style.use('fivethirtyeight')\n",
    "\n",
    "knn, ax = plt.subplots()\n",
    "\n",
    "ax.bar(x_knn, knnData, width = .7, edgecolor = 'white', color = 'lightgreen', linewidth = 4, label = 'Predicted')\n",
    "\n",
    "labels = knnNames\n",
    "\n",
    "rects = ax.patches\n",
    "for rect, label in zip(rects, labels):\n",
    "    if rect.get_x() > 6:\n",
    "        ax.text(rect.get_x() + rect.get_width() / 1.75, rect.get_height() + .02, label,\n",
    "        ha='center', va='bottom', rotation = 'vertical', color = 'black')\n",
    "    elif rect.get_x() <= 6:\n",
    "        height = .03\n",
    "        ax.text(rect.get_x() + rect.get_width() / 1.75, height, label,\n",
    "        ha='center', va='bottom', rotation = 'vertical', color = 'black')\n",
    "        \n",
    "knn.suptitle(\"KNN predicted MVP share\", weight = 'bold', size = 18, y = 1.005)\n",
    "ax.set_title(\"NBA.com MVP ladder rank listed in parentheses\", size = 14, fontname = 'Rockwell')\n",
    "ax.xaxis.set_visible(False)\n",
    "ax.set_ylabel(\"Vote Share\")\n",
    "\n",
    "knn.text(x = -0.02, y = 0.03,\n",
    "    s = '_______________________________________________________________',\n",
    "    fontsize = 14, color = 'grey', horizontalalignment='left')\n",
    "\n",
    "knn.text(x = -0.02, y = -.03,\n",
    "    s = 'Rick Sikka                     ',\n",
    "    fontsize = 14, fontname = 'DejaVu Sans', color = 'grey', horizontalalignment='left')\n",
    "\n",
    "knn.savefig('knn.png', dpi = 400, bbox_inches = 'tight')"
   ]
  },
  {
   "cell_type": "markdown",
   "metadata": {},
   "source": [
    "### Deep Neural Network"
   ]
  },
  {
   "cell_type": "code",
   "execution_count": 285,
   "metadata": {},
   "outputs": [
    {
     "name": "stdout",
     "output_type": "stream",
     "text": [
      "Giannis (1) 0.5308882541242831\n",
      "Harden (2) 0.4981903737147834\n",
      "Curry (3) 0.2529571349865109\n",
      "Kawhi (4) 0.32422060363959354\n",
      "Jokic (5) 0.3499368570948033\n",
      "PG13 (6) 0.27774069262461926\n",
      "Embiid (7) 0.27598625541230576\n",
      "LeBron (8) 0.07790166772840272\n",
      "KD (9) 0.38428470003732124\n",
      "Davis (10) 0.27020386705783456\n"
     ]
    }
   ],
   "source": [
    "dnnPredict = dnn.predict(dfCurrentPredict)\n",
    "dnnPredict = dnnPredict.tolist()\n",
    "\n",
    "for (i, j) in zip(dfCurrentNames, dnnPredict):\n",
    "    print(i, j)"
   ]
  },
  {
   "cell_type": "code",
   "execution_count": 286,
   "metadata": {},
   "outputs": [
    {
     "name": "stdout",
     "output_type": "stream",
     "text": [
      "[['Giannis (1)', 0.5308882541242831], ['Harden (2)', 0.4981903737147834], ['KD (9)', 0.38428470003732124], ['Jokic (5)', 0.3499368570948033], ['Kawhi (4)', 0.32422060363959354], ['PG13 (6)', 0.27774069262461926], ['Embiid (7)', 0.27598625541230576], ['Davis (10)', 0.27020386705783456], ['Curry (3)', 0.2529571349865109], ['LeBron (8)', 0.07790166772840272]]\n"
     ]
    }
   ],
   "source": [
    "dnnListUnsorted = [[i, j] for i, j in zip(dfCurrentNames, dnnPredict)]\n",
    "dnnDataUnsorted = [row[1] for row in dnnListUnsorted]\n",
    "dnnList = sorted(dnnListUnsorted, key = itemgetter(1), reverse = True)\n",
    "\n",
    "dnnData = [row[1] for row in dnnList]\n",
    "dnnNames = [row[0] for row in dnnList]\n",
    "print(dnnList)\n",
    "\n",
    "x_dnn = np.arange(len(dnnData))"
   ]
  },
  {
   "cell_type": "code",
   "execution_count": 287,
   "metadata": {},
   "outputs": [
    {
     "data": {
      "image/png": "[encoded data removed]",
      "text/plain": [
       "<Figure size 432x288 with 1 Axes>"
      ]
     },
     "metadata": {},
     "output_type": "display_data"
    }
   ],
   "source": [
    "plt.style.use('fivethirtyeight')\n",
    "\n",
    "dnn, ax = plt.subplots()\n",
    "\n",
    "ax.bar(x_dnn, dnnData, width = .7, edgecolor = 'white', color = 'lightgreen', linewidth = 4, label = 'Predicted')\n",
    "\n",
    "labels = dnnNames\n",
    "\n",
    "rects = ax.patches\n",
    "for rect, label in zip(rects, labels):\n",
    "    if rect.get_x() > 8:\n",
    "        ax.text(rect.get_x() + rect.get_width() / 1.75, rect.get_height() + .02, label,\n",
    "        ha='center', va='bottom', rotation = 'vertical', color = 'black')\n",
    "    elif rect.get_x() <= 8:\n",
    "        height = .03\n",
    "        ax.text(rect.get_x() + rect.get_width() / 1.75, height, label,\n",
    "        ha='center', va='bottom', rotation = 'vertical', color = 'black')\n",
    "        \n",
    "dnn.suptitle(\"DNN predicted MVP share\", weight = 'bold', size = 18, y = 1.005)\n",
    "ax.set_title(\"NBA.com MVP ladder rank listed in parentheses\", size = 14, fontname = 'Rockwell')\n",
    "ax.xaxis.set_visible(False)\n",
    "ax.set_ylabel(\"Vote Share\")\n",
    "\n",
    "dnn.text(x = -0.02, y = 0.03,\n",
    "    s = '_______________________________________________________________',\n",
    "    fontsize = 14, color = 'grey', horizontalalignment='left')\n",
    "\n",
    "dnn.text(x = -0.02, y = -.03,\n",
    "    s = 'Rick Sikka                     ',\n",
    "    fontsize = 14, fontname = 'Rockwell', color = 'grey', horizontalalignment='left')\n",
    "\n",
    "dnn.savefig('dnn.png', dpi = 400, bbox_inches = 'tight')"
   ]
  },
  {
   "cell_type": "code",
   "execution_count": null,
   "metadata": {},
   "outputs": [],
   "source": []
  }
 ],
 "metadata": {
  "kernelspec": {
   "display_name": "Python 3",
   "language": "python",
   "name": "python3"
  },
  "language_info": {
   "codemirror_mode": {
    "name": "ipython",
    "version": 3
   },
   "file_extension": ".py",
   "mimetype": "text/x-python",
   "name": "python",
   "nbconvert_exporter": "python",
   "pygments_lexer": "ipython3",
   "version": "3.7.3"
  }
 },
 "nbformat": 4,
 "nbformat_minor": 2
}
